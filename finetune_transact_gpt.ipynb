{
 "cells": [
  {
   "cell_type": "markdown",
   "metadata": {},
   "source": [
    "# Fine-tuning GPT 4 on Secure Data\n",
    "\n",
    "Here we'll demo a simple implementation of a pipeline that takes in sensitive data and stores it securely, before ultimately fine-tune a gpt model on it. And well, it'll just be a kaggle data in this case, but the point is to introduce one method to handle data that may be sensitive yet required for a fine-tuning job. The process is as follows:\n",
    "\n",
    " - Ingest data\n",
    " - Generate synthetic data\n",
    " - Encrypt the data\n",
    " - Decrypt and fine-tune the data\n",
    " - Test inference with the new model\n",
    "\n",
    "The dataset we'll use to demonstrate this is on financial transactions data, which you can get here: https://www.kaggle.com/datasets/ismetsemedov/transactions. Now you'll quickly notice it is not natural language data fit for a fine-tuning job with an LLM, hence why we have a synthetic data generation step in our pipeling - we'll use the tabular data to simulate natural language financial transaction data. Moreover, you'll also see a lot of features that we won't actually need as this is data meant for fraud detection, but we are juts adapting it for our use case.\n",
    "\n",
    "Finally, you can find all relevant code files here: https://github.com/RavinderRai/finetune-transact-gpt. Make sure to pip install all requirements before testing it!"
   ]
  },
  {
   "cell_type": "markdown",
   "metadata": {},
   "source": [
    "## Data Ingestion\n",
    "\n",
    "So the first step is straightforward, as we just want to download the data. That being said, it becomes complicated in this case as the data is almost 3 GB with over 7 million samples, so you can't simply run basic pandas functions to explore it, but you can still load it by specifying the chunksize argument that pandas offers. The following code will give you the data."
   ]
  },
  {
   "cell_type": "code",
   "execution_count": null,
   "metadata": {},
   "outputs": [],
   "source": [
    "dataset_slug = \"ismetsemedov/transactions\"\n",
    "file_name = \"synthetic_fraud_data.csv\"\n",
    "chunk_size = 100_000\n",
    "\n",
    "dataset_dir = kagglehub.dataset_download(dataset_slug)\n",
    "file_path = os.path.join(dataset_dir, file_name)\n",
    "\n",
    "chunk_iter = pd.read_csv(file_path, chunksize=chunk_size)\n",
    "df = pd.concat(chunk_iter, ignore_index=True)"
   ]
  },
  {
   "cell_type": "markdown",
   "metadata": {},
   "source": [
    "Regardless, we are just demoing this type of problem so we can randomly sample a smaller subset. In fact, the target variable for our problem - merchant category - has only 8 categories, so we can randomly select 200 samples which will give us around 25 data points for each."
   ]
  },
  {
   "cell_type": "code",
   "execution_count": null,
   "metadata": {},
   "outputs": [],
   "source": [
    "output_path = \"sampled_data.csv\"\n",
    "\n",
    "df_sample = df.sample(n=200, random_state=42)\n",
    "df_sample.to_csv(output_path, index=False)"
   ]
  },
  {
   "cell_type": "markdown",
   "metadata": {},
   "source": [
    "Now we have our tabular data, so we need to convert it to natural language text."
   ]
  },
  {
   "cell_type": "markdown",
   "metadata": {},
   "source": [
    "## Synthetic Dara Generation\n",
    "\n",
    "As we all know, LLMs do not work well with tabular data, so we need to convert this. We can achieve this simply with different transaction templates and select them randomly for data variety. To do this we will want to get the relevant features and craft natural text with it, like so:"
   ]
  },
  {
   "cell_type": "code",
   "execution_count": null,
   "metadata": {},
   "outputs": [],
   "source": [
    "merchant = row[\"merchant\"]\n",
    "amount = row[\"amount\"]\n",
    "currency = row[\"currency\"]\n",
    "city = row[\"city\"]\n",
    "country = row[\"country\"]\n",
    "timestamp = row[\"timestamp\"]\n",
    "card_type = row[\"card_type\"]\n",
    "\n",
    "templates = [\n",
    "    f\"{merchant} charged {amount:.2f} {currency} on your {card_type} card in {city}, {country} on {date_str}.\",\n",
    "    f\"Transaction at {merchant} for {amount:.2f} {currency} in {city}, {country} ({card_type}) on {date_str}.\",\n",
    "    f\"You spent {amount:.2f} {currency} at {merchant}, {city}, {country} using your {card_type} card on {date_str}.\",\n",
    "    f\"Purchase from {merchant}: {amount:.2f} {currency}, paid with {card_type} in {city}, {country} on {date_str}.\",\n",
    "    f\"{merchant} transaction of {amount:.2f} {currency} in {country} with {card_type} on {date_str}.\"\n",
    "]"
   ]
  },
  {
   "cell_type": "markdown",
   "metadata": {},
   "source": [
    "It should be noted that for more variety you could prompt an LLM to generate this data for you, but that might be overkill for this demo so we won't cover that here."
   ]
  },
  {
   "cell_type": "markdown",
   "metadata": {},
   "source": [
    "Then you can iterate on rows from a pandas dataframe and randomly select one of the templates to be the new data. Moreover, you can then store it in the proper format that openai fine-tuning jobs would want. This might look something like this:"
   ]
  },
  {
   "cell_type": "code",
   "execution_count": null,
   "metadata": {},
   "outputs": [],
   "source": [
    "with open(\"finetune_data.jsonl\", \"w\") as f_out:\n",
    "    for _, row in df.iterrows():\n",
    "        description = generate_description(row)\n",
    "        category = row[\"merchant_category\"]\n",
    "        example = {\n",
    "            \"messages\": [\n",
    "                {\"role\": \"user\", \"content\": f\"Transaction: {description}\"},\n",
    "                {\"role\": \"assistant\", \"content\": category}\n",
    "            ]\n",
    "        }\n",
    "        f_out.write(json.dumps(example) + \"\\n\")"
   ]
  },
  {
   "cell_type": "markdown",
   "metadata": {},
   "source": [
    "Where generate description would be a function to perform the above action to get the natural langauge data. Then once we have it in this format, we can encrypt it."
   ]
  },
  {
   "cell_type": "markdown",
   "metadata": {},
   "source": [
    "## Data Encryption\n",
    "\n",
    "So why encrypt it now. It's so that you are not storing raw sensitive data. This is \"data-at-rest\" protection, where we encrypt the whole jsonl file that has our training data before ultimately storing it in a cloud-like tool. Then, decryption will be performed right before uploading it to OpenAI (don't worry, you can delete it later) before fine-tuning. That way we only store the encrypted data.\n",
    "\n",
    "Encryption can be done with the cryptography python library, where we not only encrypt the data but also generate an encryption key. Then you can use it to encrypt your data like so:"
   ]
  },
  {
   "cell_type": "code",
   "execution_count": null,
   "metadata": {},
   "outputs": [],
   "source": [
    "from cryptography.fernet import Fernet\n",
    "\n",
    "key = Fernet.generate_key()\n",
    "fernet = Fernet(key)\n",
    "\n",
    "encrypted_data = fernet.encrypt(data)"
   ]
  },
  {
   "cell_type": "markdown",
   "metadata": {},
   "source": [
    "## Fine-Tuning with OpenAI\n",
    "\n",
    "Now we can finally fine-tune our model on our dataset. You can find the documentation for the entire breakdown on how to do this here: https://platform.openai.com/docs/guides/fine-tuning?lang=python#preparing-your-dataset. Regarding LLM applications there isn't typically as much feature engineering you need to do as compared with traditional machine learning applications, so all you need to do is look at some examples on their link for how to prepare your data and match them. We already have our data ready though, so you can also look again at how we prepared our data, but for clarity's sake here is one sample row: "
   ]
  },
  {
   "cell_type": "code",
   "execution_count": null,
   "metadata": {},
   "outputs": [],
   "source": [
    "{\n",
    "    \"messages\": \n",
    "    [\n",
    "        {\n",
    "            \"role\": \"user\", \n",
    "            \"content\": \"Transaction: Red Lobster transaction of 544.43 BRL in Brazil with Basic Debit on October 02, 2024.\"\n",
    "        }, \n",
    "        {\n",
    "            \"role\": \"assistant\", \n",
    "            \"content\": \"Restaurant\"\n",
    "        }\n",
    "    ]\n",
    "}"
   ]
  },
  {
   "cell_type": "markdown",
   "metadata": {},
   "source": [
    "So our targets are just one word as this is a multi-categorical task. Next we first need to remember to decrypt our data. This is simple enough though, just get your key and run the decrypt function."
   ]
  },
  {
   "cell_type": "code",
   "execution_count": null,
   "metadata": {},
   "outputs": [],
   "source": [
    "# You'll might have relevant files saved locally if you're testing this, so make sure to open them\n",
    "key_path = \"encryption.key\"\n",
    "encrypted_path = \"finetune_data_encrypted.bin\"\n",
    "\n",
    "with open(key_path, \"rb\") as f:\n",
    "    key = f.read()\n",
    "\n",
    "with open(encrypted_path, \"rb\") as f:\n",
    "    encrypted_data = f.read()\n",
    "\n",
    "fernet = Fernet(key)\n",
    "\n",
    "decrypted_data = fernet.decrypt(encrypted_data)"
   ]
  },
  {
   "cell_type": "markdown",
   "metadata": {},
   "source": [
    "Then we can start the fine-tuning job. Following openai's documentation, you can send a fine-tuning job to run on their servers with one of their models like this:"
   ]
  },
  {
   "cell_type": "code",
   "execution_count": null,
   "metadata": {},
   "outputs": [],
   "source": [
    "# Make sure to set the proper variable names and file paths\n",
    "jsonl_path = \"finetune_data.jsonl\"\n",
    "model = \"gpt-4o-mini-2024-07-18\"\n",
    "n_epochs=2\n",
    "\n",
    "client = OpenAI()\n",
    "\n",
    "training_file = client.files.create(\n",
    "    file=open(jsonl_path, \"rb\"),\n",
    "    purpose=\"fine-tune\"\n",
    ")\n",
    "\n",
    "job = client.fine_tuning.jobs.create(\n",
    "    training_file=training_file.id,\n",
    "    model=model,\n",
    "    method={\n",
    "        \"type\": \"supervised\",\n",
    "        \"supervised\": {\n",
    "            \"hyperparameters\": {\"n_epochs\": n_epochs}\n",
    "        }\n",
    "    }\n",
    ")"
   ]
  },
  {
   "cell_type": "markdown",
   "metadata": {},
   "source": [
    "And just like that, your fine tuning job will be running. In this example with only 200 samples, you can expect it to only take a few minutes, but if you have a larger dataset be prepared for the training job to take a while. To see the progress though, simply go to this link: https://platform.openai.com/finetune/. From here, you can see the status of your fine-tuning job and also the id. Once it's done, we can test it out."
   ]
  },
  {
   "cell_type": "markdown",
   "metadata": {},
   "source": [
    "## Inference Testing\n",
    "\n",
    "Finally we can do a quick inference test. To do this, run this code block:"
   ]
  },
  {
   "cell_type": "code",
   "execution_count": null,
   "metadata": {},
   "outputs": [],
   "source": [
    "client = OpenAI()\n",
    "\n",
    "response = client.chat.completions.create(\n",
    "    model=model_id,\n",
    "    messages=[\n",
    "        {\"role\": \"user\", \"content\": prompt}\n",
    "    ],\n",
    "    temperature=0  # deterministic\n",
    ")\n",
    "\n",
    "prediction = response.choices[0].message.content.strip()"
   ]
  },
  {
   "cell_type": "markdown",
   "metadata": {},
   "source": [
    "Where prompt is a sample data (you can just use one randomly from the training data), and the model_id is the name of the model you'll find here: https://platform.openai.com/finetune. For example, here are some inference tests done on the first few samples in the training set.\n",
    "\n",
    "**Example 1**\n",
    "- **Prompt:** Transaction: Red Lobster transaction of 544.43 BRL in Brazil with Basic Debit on October 02, 2024.\n",
    "- **Predicted Category:** `Restaurant`\n",
    "- **Actual Category:** `Restaurant`\n",
    "\n",
    "**Example 2**\n",
    "- **Prompt:** Transaction: Skillshare charged 1.46 CAD on your Basic Credit card in Unknown City, Canada on October 08, 2024.\n",
    "- **Predicted Category:** `Education`\n",
    "- **Actual Category:** `Education`"
   ]
  },
  {
   "cell_type": "markdown",
   "metadata": {},
   "source": [
    "## Conclusion\n",
    "\n",
    "That's it for this quick demonstration! We went from structured data to synthetic natural language, and then to data encryption before ultimately fine-tuning a gpt model. While the model was trained on just a small sample of data, you will see that it is still able to accurately categorize transactions based on natural language inputs — showing the power and practicality of LLM fine-tuning even on lightweight prototypes.\n",
    "\n",
    "For a real production LLM system, this approach will naturally be extended with more complex components. Some things you might consider looking into include:\n",
    "\n",
    "- **Human-in-the-loop feedback**: Letting users manually correct misclassifications and feeding those corrections back into the training data.\n",
    "- **Live re-training or continual fine-tuning**: Periodically updating the model as new transaction types, merchants, or edge cases emerge.\n",
    "\n",
    "And on the **data security** side, additional steps could might look like:\n",
    "\n",
    "- **Field-level encryption**: Encrypting specific fields (e.g., card number, IP address) even within the training data, for stricter compliance.\n",
    "- **Differential privacy**: Adding noise to training data or model outputs to limit the ability to reconstruct individual examples.\n",
    "\n",
    "Thanks for reading!"
   ]
  }
 ],
 "metadata": {
  "kernelspec": {
   "display_name": ".venv",
   "language": "python",
   "name": "python3"
  },
  "language_info": {
   "codemirror_mode": {
    "name": "ipython",
    "version": 3
   },
   "file_extension": ".py",
   "mimetype": "text/x-python",
   "name": "python",
   "nbconvert_exporter": "python",
   "pygments_lexer": "ipython3",
   "version": "3.12.4"
  }
 },
 "nbformat": 4,
 "nbformat_minor": 2
}
