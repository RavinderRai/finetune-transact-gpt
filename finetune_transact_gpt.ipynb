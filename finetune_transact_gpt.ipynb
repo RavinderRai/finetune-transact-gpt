{
 "cells": [
  {
   "cell_type": "markdown",
   "metadata": {},
   "source": [
    "# Fine-tuning GPT 4 on Secure Data\n",
    "\n",
    "Here we'll demonstrate a simple pipeline to fine-tune a gpt model on categorical data, which we will ingest and also encrypt to quickly show one possible way to secure your data."
   ]
  },
  {
   "cell_type": "markdown",
   "metadata": {},
   "source": []
  }
 ],
 "metadata": {
  "language_info": {
   "name": "python"
  }
 },
 "nbformat": 4,
 "nbformat_minor": 2
}
